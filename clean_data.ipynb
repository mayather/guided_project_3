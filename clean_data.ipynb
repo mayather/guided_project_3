{
 "cells": [
  {
   "cell_type": "code",
   "execution_count": 2,
   "metadata": {},
   "outputs": [],
   "source": [
    "import pandas as pd"
   ]
  },
  {
   "cell_type": "code",
   "execution_count": 3,
   "metadata": {},
   "outputs": [],
   "source": [
    "# Read in troop data into DataFrame\n",
    "df = pd.read_csv(\"troop_movements10m.csv\")"
   ]
  },
  {
   "cell_type": "code",
   "execution_count": 5,
   "metadata": {},
   "outputs": [
    {
     "data": {
      "text/plain": [
       "0                       at-st\n",
       "1                tie_silencer\n",
       "2                       at-at\n",
       "3                tie_silencer\n",
       "4                 tie_fighter\n",
       "                  ...        \n",
       "9999995    resistance_soldier\n",
       "9999996          tie_silencer\n",
       "9999997           tie_fighter\n",
       "9999998           tie_fighter\n",
       "9999999               unknown\n",
       "Name: unit_type, Length: 10000000, dtype: object"
      ]
     },
     "metadata": {},
     "output_type": "display_data"
    }
   ],
   "source": [
    "#Some unit_type records have a value of invalid_unit. Replace that with unknown.\n",
    "df['unit_type'] = df['unit_type'].apply(lambda x: \"unknown\" if x == 'invalid_unit' else x)\n",
    "display(df['unit_type'])"
   ]
  },
  {
   "cell_type": "code",
   "execution_count": 13,
   "metadata": {},
   "outputs": [
    {
     "data": {
      "text/plain": [
       "0          2.0\n",
       "1          4.0\n",
       "2          0.0\n",
       "3          6.0\n",
       "4          0.0\n",
       "          ... \n",
       "9999995    6.0\n",
       "9999996    8.0\n",
       "9999997    7.0\n",
       "9999998    6.0\n",
       "9999999    6.0\n",
       "Name: location_x, Length: 10000000, dtype: float64"
      ]
     },
     "metadata": {},
     "output_type": "display_data"
    },
    {
     "data": {
      "text/plain": [
       "0          8.0\n",
       "1          4.0\n",
       "2          3.0\n",
       "3          1.0\n",
       "4          4.0\n",
       "          ... \n",
       "9999995    6.0\n",
       "9999996    6.0\n",
       "9999997    7.0\n",
       "9999998    6.0\n",
       "9999999    6.0\n",
       "Name: location_y, Length: 10000000, dtype: float64"
      ]
     },
     "metadata": {},
     "output_type": "display_data"
    }
   ],
   "source": [
    "#Some location_x and location_Y values are missing. Use the ffill method to fill.\n",
    "df['location_x'] = df['location_x'].ffill()\n",
    "df['location_y'] = df['location_y'].ffill()\n",
    "display(df['location_x'])\n",
    "display(df['location_y'])"
   ]
  },
  {
   "cell_type": "code",
   "execution_count": 17,
   "metadata": {},
   "outputs": [
    {
     "data": {
      "text/plain": [
       "0          False\n",
       "1          False\n",
       "2          False\n",
       "3          False\n",
       "4          False\n",
       "           ...  \n",
       "9999995    False\n",
       "9999996    False\n",
       "9999997    False\n",
       "9999998    False\n",
       "9999999    False\n",
       "Name: location_y, Length: 10000000, dtype: bool"
      ]
     },
     "metadata": {},
     "output_type": "display_data"
    }
   ],
   "source": [
    "display(df['location_y'] == None)"
   ]
  },
  {
   "cell_type": "code",
   "execution_count": 19,
   "metadata": {},
   "outputs": [
    {
     "name": "stdout",
     "output_type": "stream",
     "text": [
      "Defaulting to user installation because normal site-packages is not writeable\n",
      "Requirement already satisfied: pyarrow in c:\\users\\wasadmin\\appdata\\roaming\\python\\python312\\site-packages (16.1.0)\n",
      "Requirement already satisfied: numpy>=1.16.6 in c:\\users\\wasadmin\\appdata\\roaming\\python\\python312\\site-packages (from pyarrow) (1.26.4)\n",
      "Defaulting to user installation because normal site-packages is not writeable\n",
      "Collecting fastparquet\n",
      "  Downloading fastparquet-2024.2.0-cp312-cp312-win_amd64.whl.metadata (4.2 kB)\n",
      "Requirement already satisfied: pandas>=1.5.0 in c:\\users\\wasadmin\\appdata\\roaming\\python\\python312\\site-packages (from fastparquet) (2.2.2)\n",
      "Requirement already satisfied: numpy>=1.20.3 in c:\\users\\wasadmin\\appdata\\roaming\\python\\python312\\site-packages (from fastparquet) (1.26.4)\n",
      "Collecting cramjam>=2.3 (from fastparquet)\n",
      "  Downloading cramjam-2.8.3-cp312-none-win_amd64.whl.metadata (4.3 kB)\n",
      "Collecting fsspec (from fastparquet)\n",
      "  Downloading fsspec-2024.5.0-py3-none-any.whl.metadata (11 kB)\n",
      "Requirement already satisfied: packaging in c:\\users\\wasadmin\\appdata\\roaming\\python\\python312\\site-packages (from fastparquet) (24.0)\n",
      "Requirement already satisfied: python-dateutil>=2.8.2 in c:\\users\\wasadmin\\appdata\\roaming\\python\\python312\\site-packages (from pandas>=1.5.0->fastparquet) (2.9.0.post0)\n",
      "Requirement already satisfied: pytz>=2020.1 in c:\\users\\wasadmin\\appdata\\roaming\\python\\python312\\site-packages (from pandas>=1.5.0->fastparquet) (2024.1)\n",
      "Requirement already satisfied: tzdata>=2022.7 in c:\\users\\wasadmin\\appdata\\roaming\\python\\python312\\site-packages (from pandas>=1.5.0->fastparquet) (2024.1)\n",
      "Requirement already satisfied: six>=1.5 in c:\\users\\wasadmin\\appdata\\roaming\\python\\python312\\site-packages (from python-dateutil>=2.8.2->pandas>=1.5.0->fastparquet) (1.16.0)\n",
      "Downloading fastparquet-2024.2.0-cp312-cp312-win_amd64.whl (669 kB)\n",
      "   ---------------------------------------- 0.0/669.7 kB ? eta -:--:--\n",
      "   - ------------------------------------- 30.7/669.7 kB 660.6 kB/s eta 0:00:01\n",
      "   --- ----------------------------------- 61.4/669.7 kB 656.4 kB/s eta 0:00:01\n",
      "   ----- --------------------------------- 92.2/669.7 kB 655.4 kB/s eta 0:00:01\n",
      "   -------- ----------------------------- 153.6/669.7 kB 919.0 kB/s eta 0:00:01\n",
      "   ---------------------------------------  665.6/669.7 kB 3.5 MB/s eta 0:00:01\n",
      "   ---------------------------------------- 669.7/669.7 kB 2.8 MB/s eta 0:00:00\n",
      "Downloading cramjam-2.8.3-cp312-none-win_amd64.whl (1.6 MB)\n",
      "   ---------------------------------------- 0.0/1.6 MB ? eta -:--:--\n",
      "   ---------------------------------------- 1.6/1.6 MB 34.8 MB/s eta 0:00:00\n",
      "Downloading fsspec-2024.5.0-py3-none-any.whl (316 kB)\n",
      "   ---------------------------------------- 0.0/316.1 kB ? eta -:--:--\n",
      "   ---------------------------------------- 316.1/316.1 kB 9.9 MB/s eta 0:00:00\n",
      "Installing collected packages: fsspec, cramjam, fastparquet\n",
      "Successfully installed cramjam-2.8.3 fastparquet-2024.2.0 fsspec-2024.5.0\n"
     ]
    }
   ],
   "source": [
    "! pip install pyarrow\n",
    "! pip install fastparquet\n"
   ]
  },
  {
   "cell_type": "code",
   "execution_count": 20,
   "metadata": {},
   "outputs": [],
   "source": [
    "df.to_parquet('troop_movements10m.parquet', engine='fastparquet')"
   ]
  }
 ],
 "metadata": {
  "kernelspec": {
   "display_name": "Python 3",
   "language": "python",
   "name": "python3"
  },
  "language_info": {
   "codemirror_mode": {
    "name": "ipython",
    "version": 3
   },
   "file_extension": ".py",
   "mimetype": "text/x-python",
   "name": "python",
   "nbconvert_exporter": "python",
   "pygments_lexer": "ipython3",
   "version": "3.12.3"
  }
 },
 "nbformat": 4,
 "nbformat_minor": 2
}
