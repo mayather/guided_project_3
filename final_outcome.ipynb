{
 "cells": [
  {
   "cell_type": "code",
   "execution_count": 1,
   "metadata": {},
   "outputs": [],
   "source": [
    "import pandas as pd\n",
    "import pickle\n"
   ]
  },
  {
   "cell_type": "code",
   "execution_count": 2,
   "metadata": {},
   "outputs": [],
   "source": [
    "#Load the pickled model and load the data from the Parquet file into a data frame. \n",
    "with open('trained_model.pkl', 'rb') as f:\n",
    "    loaded_clf = pickle.load(f)\n",
    "\n",
    "df_10m = pd.read_parquet('troop_movements10m.parquet')"
   ]
  },
  {
   "cell_type": "code",
   "execution_count": 4,
   "metadata": {},
   "outputs": [],
   "source": [
    "#Add the predicted values to the data frame\n",
    "#df['is_resistance'] = [True if x == 'resistance' else False for x in df['empire_or_resistance']]\n",
    "\n",
    "X = df_10m[['unit_type','homeworld']]  # Features\n",
    "X_encoded = pd.get_dummies(X, columns=['unit_type', 'homeworld'])\n",
    "#y = df['empire_or_resistance']  # Target variable\n",
    "\n",
    "#loaded_clf.predict(X.iloc[0])\n",
    "pred_df = loaded_clf.predict(X_encoded)\n",
    "df_10m['predictions'] = pred_df\n",
    "\n",
    "\n",
    "# [True if x == 'resistance' else False for x in df['empire_or_resistance']]\n",
    "#df['predictions'] = [loaded_clf.predict(row) for row in X]"
   ]
  },
  {
   "cell_type": "code",
   "execution_count": 5,
   "metadata": {},
   "outputs": [
    {
     "data": {
      "text/html": [
       "<div>\n",
       "<style scoped>\n",
       "    .dataframe tbody tr th:only-of-type {\n",
       "        vertical-align: middle;\n",
       "    }\n",
       "\n",
       "    .dataframe tbody tr th {\n",
       "        vertical-align: top;\n",
       "    }\n",
       "\n",
       "    .dataframe thead th {\n",
       "        text-align: right;\n",
       "    }\n",
       "</style>\n",
       "<table border=\"1\" class=\"dataframe\">\n",
       "  <thead>\n",
       "    <tr style=\"text-align: right;\">\n",
       "      <th></th>\n",
       "      <th>timestamp</th>\n",
       "      <th>unit_id</th>\n",
       "      <th>unit_type</th>\n",
       "      <th>location_x</th>\n",
       "      <th>location_y</th>\n",
       "      <th>destination_x</th>\n",
       "      <th>destination_y</th>\n",
       "      <th>homeworld</th>\n",
       "      <th>predictions</th>\n",
       "    </tr>\n",
       "  </thead>\n",
       "  <tbody>\n",
       "    <tr>\n",
       "      <th>0</th>\n",
       "      <td>2023-06-13 17:33:18</td>\n",
       "      <td>1</td>\n",
       "      <td>at-st</td>\n",
       "      <td>2.0</td>\n",
       "      <td>8.0</td>\n",
       "      <td>1</td>\n",
       "      <td>1</td>\n",
       "      <td>Glee Anselm</td>\n",
       "      <td>empire</td>\n",
       "    </tr>\n",
       "    <tr>\n",
       "      <th>1</th>\n",
       "      <td>2023-06-13 17:33:17</td>\n",
       "      <td>2</td>\n",
       "      <td>tie_silencer</td>\n",
       "      <td>4.0</td>\n",
       "      <td>4.0</td>\n",
       "      <td>0</td>\n",
       "      <td>1</td>\n",
       "      <td>Trandosha</td>\n",
       "      <td>empire</td>\n",
       "    </tr>\n",
       "    <tr>\n",
       "      <th>2</th>\n",
       "      <td>2023-06-13 17:33:16</td>\n",
       "      <td>3</td>\n",
       "      <td>at-at</td>\n",
       "      <td>0.0</td>\n",
       "      <td>3.0</td>\n",
       "      <td>6</td>\n",
       "      <td>1</td>\n",
       "      <td>Corellia</td>\n",
       "      <td>empire</td>\n",
       "    </tr>\n",
       "    <tr>\n",
       "      <th>3</th>\n",
       "      <td>2023-06-13 17:33:15</td>\n",
       "      <td>4</td>\n",
       "      <td>tie_silencer</td>\n",
       "      <td>6.0</td>\n",
       "      <td>1.0</td>\n",
       "      <td>6</td>\n",
       "      <td>9</td>\n",
       "      <td>Shili</td>\n",
       "      <td>resistance</td>\n",
       "    </tr>\n",
       "    <tr>\n",
       "      <th>4</th>\n",
       "      <td>2023-06-13 17:33:14</td>\n",
       "      <td>5</td>\n",
       "      <td>tie_fighter</td>\n",
       "      <td>0.0</td>\n",
       "      <td>4.0</td>\n",
       "      <td>9</td>\n",
       "      <td>6</td>\n",
       "      <td>Muunilinst</td>\n",
       "      <td>resistance</td>\n",
       "    </tr>\n",
       "  </tbody>\n",
       "</table>\n",
       "</div>"
      ],
      "text/plain": [
       "             timestamp  unit_id     unit_type  location_x  location_y  \\\n",
       "0  2023-06-13 17:33:18        1         at-st         2.0         8.0   \n",
       "1  2023-06-13 17:33:17        2  tie_silencer         4.0         4.0   \n",
       "2  2023-06-13 17:33:16        3         at-at         0.0         3.0   \n",
       "3  2023-06-13 17:33:15        4  tie_silencer         6.0         1.0   \n",
       "4  2023-06-13 17:33:14        5   tie_fighter         0.0         4.0   \n",
       "\n",
       "   destination_x  destination_y    homeworld predictions  \n",
       "0              1              1  Glee Anselm      empire  \n",
       "1              0              1    Trandosha      empire  \n",
       "2              6              1     Corellia      empire  \n",
       "3              6              9        Shili  resistance  \n",
       "4              9              6   Muunilinst  resistance  "
      ]
     },
     "execution_count": 5,
     "metadata": {},
     "output_type": "execute_result"
    }
   ],
   "source": [
    "df_10m.head()"
   ]
  }
 ],
 "metadata": {
  "kernelspec": {
   "display_name": "Python 3",
   "language": "python",
   "name": "python3"
  },
  "language_info": {
   "codemirror_mode": {
    "name": "ipython",
    "version": 3
   },
   "file_extension": ".py",
   "mimetype": "text/x-python",
   "name": "python",
   "nbconvert_exporter": "python",
   "pygments_lexer": "ipython3",
   "version": "3.12.3"
  }
 },
 "nbformat": 4,
 "nbformat_minor": 2
}
